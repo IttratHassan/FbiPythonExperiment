{
 "cells": [
  {
   "cell_type": "code",
   "execution_count": 64,
   "metadata": {
    "collapsed": false,
    "deletable": true,
    "editable": true,
    "scrolled": false
   },
   "outputs": [
    {
     "name": "stdout",
     "output_type": "stream",
     "text": [
      "The highest population was 316,128,839 in 2013\n",
      "Highest Crime Rate was 713.6 in 1994\n",
      "Highest Murder Rate was 9.0 in 1994\n",
      "Highest Rape Rate was 39.3 in 1994\n",
      "The correlation between Murder and Rape Rate: 0.928832236921\n",
      "The correlation between Assualt and Motor Theft Rate: 0.939560718565\n"
     ]
    }
   ],
   "source": [
    "import pandas as pd\n",
    "import numpy as np\n",
    "\n",
    "col = ['Year','Population', 'Violent Crime','Violent Crime Rate', 'Murder', 'Murder Rate', 'Rape', 'Rape Rate', 'Robbery',\n",
    "      'Robbery Rate', 'Assault', 'Assault Rate', 'Property Crime', 'Property Crime Rate', 'Burglary', 'Burglary Rate',\n",
    "      'larceny Crime', 'larceny Crime Rate', 'Motor Theft', 'Motor Theft Rate']\n",
    "raw_data = pd.read_clipboard(header=None)\n",
    "raw_data.columns = col\n",
    "fbi_df = pd.DataFrame(data=raw_data)\n",
    "\n",
    "#Cleaning Dataset\n",
    "fbi_df.Year.replace([20013, 20124], [2001,2012], inplace = True)\n",
    "fbi_df\n",
    "\n",
    "#Highest Population \n",
    "highestpop = max(fbi_df[\"Population\"])\n",
    "year_highestpopulation = fbi_df.loc[fbi_df[\"Population\"] == highestpop , \"Year\"]\n",
    "print (\"The highest population was %s in %d\" %(highestpop, year_highestpopulation))\n",
    "\n",
    "#Higest Crime rate \n",
    "max_violentcrimerate = max(fbi_df['Violent Crime Rate'])\n",
    "year_maxviolentcrimerate = fbi_df.loc[fbi_df['Violent Crime Rate'] == max_violentcrimerate, 'Year']\n",
    "print (\"Highest Crime Rate was %s in %d\" %(max_violentcrimerate, year_maxviolentcrimerate))\n",
    "\n",
    "#Crime Rate Against Population\n",
    "\n",
    "\n",
    "\n",
    "#Higest Murder rate \n",
    "max_murderrate = max(fbi_df['Murder Rate'])\n",
    "year_maxmurderrate = fbi_df.loc[fbi_df['Murder Rate'] == max_murderrate, 'Year']\n",
    "print (\"Highest Murder Rate was %s in %d\" %(max_murderrate, year_maxmurderrate))\n",
    "\n",
    "#Higest Rape rate \n",
    "max_raperate = max(fbi_df['Rape Rate'])\n",
    "year_maxraperate = fbi_df.loc[fbi_df['Rape Rate'] == max_raperate, 'Year']\n",
    "print (\"Highest Rape Rate was %s in %d\" %(max_raperate, year_maxraperate))\n",
    "\n",
    "#Correlation between murder and rape\n",
    "murdCorrRape = fbi_df[\"Murder Rate\"].corr(fbi_df[\"Rape Rate\"])\n",
    "print (\"The correlation between Murder and Rape Rate: %s\" % (murdCorrRape))\n",
    "\n",
    "#Correlation between assault and motor theft\n",
    "assdCorrMotor = fbi_df[\"Assault Rate\"].corr(fbi_df[\"Motor Theft Rate\"])\n",
    "print (\"The correlation between Assualt and Motor Theft Rate: %s\" % (assdCorrMotor))"
   ]
  },
  {
   "cell_type": "code",
   "execution_count": null,
   "metadata": {
    "collapsed": true,
    "deletable": true,
    "editable": true
   },
   "outputs": [],
   "source": []
  }
 ],
 "metadata": {
  "kernelspec": {
   "display_name": "Python 2",
   "language": "python",
   "name": "python2"
  },
  "language_info": {
   "codemirror_mode": {
    "name": "ipython",
    "version": 2
   },
   "file_extension": ".py",
   "mimetype": "text/x-python",
   "name": "python",
   "nbconvert_exporter": "python",
   "pygments_lexer": "ipython2",
   "version": "2.7.6"
  }
 },
 "nbformat": 4,
 "nbformat_minor": 2
}
